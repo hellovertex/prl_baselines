{
 "nbformat": 4,
 "nbformat_minor": 0,
 "metadata": {
  "colab": {
   "name": "playground.ipynb",
   "provenance": [],
   "authorship_tag": "ABX9TyPg1YCiFTcvHl+VP2f+rA9j",
   "include_colab_link": true
  },
  "kernelspec": {
   "name": "python3",
   "display_name": "Python 3"
  },
  "language_info": {
   "name": "python"
  }
 },
 "cells": [
  {
   "cell_type": "markdown",
   "metadata": {
    "id": "view-in-github",
    "colab_type": "text",
    "pycharm": {
     "name": "#%% md\n"
    }
   },
   "source": [
    "<a href=\"https://colab.research.google.com/github/hellovertex/Thesis/blob/dev/colab_notebook.ipynb\" target=\"_parent\"><img src=\"https://colab.research.google.com/assets/colab-badge.svg\" alt=\"Open In Colab\"/></a>"
   ]
  },
  {
   "cell_type": "code",
   "execution_count": null,
   "metadata": {
    "id": "zPuqPOgiFlsx",
    "pycharm": {
     "name": "#%%\n"
    }
   },
   "outputs": [],
   "source": [
    "# Get resository from github\n",
    "! git clone --recurse-submodules https://github.com/hellovertex/Thesis.git"
   ]
  },
  {
   "cell_type": "code",
   "source": [
    "# Open folder containing resository\n",
    "%cd Thesis"
   ],
   "metadata": {
    "colab": {
     "base_uri": "https://localhost:8080/"
    },
    "id": "RxByBaDkF6p4",
    "outputId": "31261796-7c61-4ec1-ac2e-c17a6365d087",
    "pycharm": {
     "name": "#%%\n"
    }
   },
   "execution_count": 2,
   "outputs": [
    {
     "output_type": "stream",
     "name": "stdout",
     "text": [
      "/content/Thesis\n"
     ]
    }
   ]
  },
  {
   "cell_type": "code",
   "source": [
    "# Add /content/Thesis to path\n",
    "import sys, os\n",
    "sys.path.append(os.getcwd())"
   ],
   "metadata": {
    "id": "j8D6_gPeF_wo",
    "pycharm": {
     "name": "#%%\n"
    }
   },
   "execution_count": 3,
   "outputs": []
  },
  {
   "cell_type": "code",
   "source": [
    "# Goto branch dev and initialize git submodules\n",
    "! git checkout dev\n",
    "! git submodule init"
   ],
   "metadata": {
    "id": "SzVic4twGBUw",
    "pycharm": {
     "name": "#%%\n"
    }
   },
   "execution_count": null,
   "outputs": []
  },
  {
   "cell_type": "code",
   "source": [
    "# Pull the submodule repositories\n",
    "! git submodule update"
   ],
   "metadata": {
    "id": "0FkDaHPXGJM4",
    "pycharm": {
     "name": "#%%\n"
    }
   },
   "execution_count": 5,
   "outputs": []
  },
  {
   "cell_type": "code",
   "source": [
    "# Install python dependencies\n",
    "! pip install -r neuron_poker/requirements.txt"
   ],
   "metadata": {
    "id": "2XNrjpK8GzxV",
    "pycharm": {
     "name": "#%%\n"
    }
   },
   "execution_count": null,
   "outputs": []
  },
  {
   "cell_type": "code",
   "source": [
    "from google.colab import drive\n",
    "drive._mount('/content/drive')"
   ],
   "metadata": {
    "id": "e19-_XoFZ-wI",
    "outputId": "949990bd-e686-490a-dd9f-4a787a6b94e5",
    "colab": {
     "base_uri": "https://localhost:8080/"
    },
    "pycharm": {
     "name": "#%%\n"
    }
   },
   "execution_count": 6,
   "outputs": [
    {
     "output_type": "stream",
     "name": "stdout",
     "text": [
      "Mounted at /content/drive\n"
     ]
    }
   ]
  },
  {
   "cell_type": "code",
   "source": [
    "# For now, install mlflow separetely [todo: add to requirements.txt]\n",
    "! pip install mlflow[extras]"
   ],
   "metadata": {
    "id": "q0GxWKbIb4kd",
    "pycharm": {
     "name": "#%%\n"
    }
   },
   "execution_count": null,
   "outputs": []
  },
  {
   "cell_type": "code",
   "source": [
    "%%capture\n",
    "! python neuron_poker/main.py selfplay equity_improvement --improvement_rounds=20 --episodes=10"
   ],
   "metadata": {
    "id": "eicjkevhIyPd",
    "pycharm": {
     "name": "#%%\n"
    }
   },
   "execution_count": 10,
   "outputs": []
  },
  {
   "cell_type": "code",
   "source": [
    "import mlflow\n",
    "mlflow.set_tracking_uri(\"file:///content/drive/MyDrive/Thesis/mlruns\")"
   ],
   "metadata": {
    "id": "5I7jMgXRcGKJ",
    "pycharm": {
     "name": "#%%\n"
    }
   },
   "execution_count": null,
   "outputs": []
  },
  {
   "cell_type": "code",
   "source": [
    "with mlflow.start_run():\n",
    "  mlflow.log_param(\"alpha\", 0.1)"
   ],
   "metadata": {
    "id": "tBSy5tyXcZlq",
    "pycharm": {
     "name": "#%%\n"
    }
   },
   "execution_count": null,
   "outputs": []
  },
  {
   "cell_type": "code",
   "source": [
    "# todo push changes to github (write functions for that) consider using %run"
   ],
   "metadata": {
    "id": "fehIbRfGcUC3",
    "pycharm": {
     "name": "#%%\n"
    }
   },
   "execution_count": null,
   "outputs": []
  }
 ]
}