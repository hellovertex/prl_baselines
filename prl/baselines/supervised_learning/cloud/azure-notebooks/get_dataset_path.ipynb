{
 "cells": [
  {
   "cell_type": "code",
   "source": [
    "from azureml.core import Workspace\n",
    "import os\n",
    "# Connect to Workspace and reference Dataset\n",
    "ws = Workspace.from_config()\n",
    "dataset = ws.datasets[\"preprocessed_parquet\"]\n",
    "\n",
    "# Create mountcontext and mount the dataset\n",
    "mount_ctx = dataset.mount()  \n",
    "mount_ctx.start()  \n",
    "\n",
    "# Get the mount point\n",
    "dataset_mount_folder = mount_ctx.mount_point\n",
    "print(dataset_mount_folder)\n",
    "\n",
    "# List the files in the mount point\n",
    "files = os.listdir(dataset_mount_folder)\n",
    "print(files)"
   ],
   "outputs": [],
   "execution_count": null,
   "metadata": {
    "collapsed": true,
    "pycharm": {
     "name": "#%%\n"
    }
   }
  },
  {
   "cell_type": "code",
   "source": [
    "print(dataset_mount_folder + '/' + files[0])"
   ],
   "outputs": [],
   "execution_count": null,
   "metadata": {
    "jupyter": {
     "source_hidden": false,
     "outputs_hidden": false
    },
    "nteract": {
     "transient": {
      "deleting": false
     }
    },
    "pycharm": {
     "name": "#%%\n"
    }
   }
  }
 ],
 "metadata": {
  "kernelspec": {
   "name": "python3",
   "language": "python",
   "display_name": "Python 3"
  },
  "language_info": {
   "name": "python",
   "version": "3.8.5",
   "mimetype": "text/x-python",
   "codemirror_mode": {
    "name": "ipython",
    "version": 3
   },
   "pygments_lexer": "ipython3",
   "nbconvert_exporter": "python",
   "file_extension": ".py"
  },
  "kernel_info": {
   "name": "python3"
  },
  "nteract": {
   "version": "nteract-front-end@1.0.0"
  }
 },
 "nbformat": 4,
 "nbformat_minor": 0
}