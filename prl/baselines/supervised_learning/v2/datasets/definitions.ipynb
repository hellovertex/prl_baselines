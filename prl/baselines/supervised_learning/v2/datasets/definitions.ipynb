{
 "cells": [
  {
   "cell_type": "markdown",
   "source": [
    "We denote by $D$ the whole dataset from `www.hhsmithy.com` consisting of 50 million played hands of NLHE.\n",
    "Let $S$ be the set of players contained in $D$. By $S(i)$ we denote the set of the top $i$ players in $S$,\n",
    "who won the most chips while having played more than 10000 played hands. There are 336 players that played more thank 10k hands.\n",
    "$S(1)$ is the player with the biggest winnings over all 50 million hands in $D$.\n",
    "\n",
    "Let $D^*(i) \\subset D$ denote the subset of $D$ containing only players in $S(i)$.\n",
    "Note that for an episode $ep \\in D^*(i)$ holds, even if no showdown player in $ep$ is a top player.\n",
    "\n",
    "On $D^*(i)$ we further define datasets in which we generate FOLD - labelled actions:\n",
    "$D^*_{F1}(i) = \\{ep \\in D^*(i): \\text{ ep has showdown player in } S(i) \\} \\cap \\{ep \\in D^*(i): \\text{ a showdown players action is labelled as FOLD if player is not in } S(i) \\}$.\n",
    "\n",
    "$D^*_{F2}(i) = \\{ep \\in D^*(i): \\text{ if a player is in } S(i) \\text{ and not in showdown players, deal them random cards} \\}$.\n",
    "\n",
    "... and datasets in which we only take the actions we know from the showdown data:\n",
    "$D^*_{NF1}(i) = \\{ep \\in D^*(i): \\text{ ep has winner in } S(i) \\} \\cap \\{ep \\in D^*(i): \\text{ drop all turns of players that lost showdown} \\}$\n",
    "\n",
    "$D^*_{NF2}(i) = \\{ep \\in D^*(i): \\text{ ep has showdown player in } S(i) \\} \\cap \\{ep \\in D^*(i): \\text{ drop all turns of players not in} S(i) \\}$"
   ],
   "metadata": {
    "collapsed": false
   }
  },
  {
   "cell_type": "code",
   "execution_count": 1,
   "outputs": [],
   "source": [
    "import numpy as np"
   ],
   "metadata": {
    "collapsed": false
   }
  },
  {
   "cell_type": "code",
   "execution_count": null,
   "outputs": [],
   "source": [],
   "metadata": {
    "collapsed": false
   }
  }
 ],
 "metadata": {
  "kernelspec": {
   "display_name": "Python 3",
   "language": "python",
   "name": "python3"
  },
  "language_info": {
   "codemirror_mode": {
    "name": "ipython",
    "version": 2
   },
   "file_extension": ".py",
   "mimetype": "text/x-python",
   "name": "python",
   "nbconvert_exporter": "python",
   "pygments_lexer": "ipython2",
   "version": "2.7.6"
  }
 },
 "nbformat": 4,
 "nbformat_minor": 0
}
