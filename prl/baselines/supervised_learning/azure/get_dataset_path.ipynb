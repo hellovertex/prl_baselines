{
  "cells": [
    {
      "cell_type": "code",
      "source": [
        "from azureml.core import Workspace\r\n",
        "import os\r\n",
        "# Connect to Workspace and reference Dataset\r\n",
        "ws = Workspace.from_config()\r\n",
        "dataset = ws.datasets[\"preprocessed_parquet\"]\r\n",
        "\r\n",
        "# Create mountcontext and mount the dataset\r\n",
        "mount_ctx = dataset.mount()  \r\n",
        "mount_ctx.start()  \r\n",
        "\r\n",
        "# Get the mount point\r\n",
        "dataset_mount_folder = mount_ctx.mount_point\r\n",
        "print(dataset_mount_folder)\r\n",
        "\r\n",
        "# List the files in the mount point\r\n",
        "files = os.listdir(dataset_mount_folder)\r\n",
        "print(files)"
      ],
      "outputs": [],
      "execution_count": null,
      "metadata": {
        "collapsed": true
      }
    },
    {
      "cell_type": "code",
      "source": [
        "print(dataset_mount_folder + '/' + files[0])"
      ],
      "outputs": [],
      "execution_count": null,
      "metadata": {
        "jupyter": {
          "source_hidden": false,
          "outputs_hidden": false
        },
        "nteract": {
          "transient": {
            "deleting": false
          }
        }
      }
    }
  ],
  "metadata": {
    "kernelspec": {
      "name": "python3",
      "language": "python",
      "display_name": "Python 3"
    },
    "language_info": {
      "name": "python",
      "version": "3.8.5",
      "mimetype": "text/x-python",
      "codemirror_mode": {
        "name": "ipython",
        "version": 3
      },
      "pygments_lexer": "ipython3",
      "nbconvert_exporter": "python",
      "file_extension": ".py"
    },
    "kernel_info": {
      "name": "python3"
    },
    "nteract": {
      "version": "nteract-front-end@1.0.0"
    }
  },
  "nbformat": 4,
  "nbformat_minor": 0
}