{
 "cells": [
  {
   "cell_type": "code",
   "execution_count": 1,
   "metadata": {
    "collapsed": true
   },
   "outputs": [],
   "source": [
    "# Evaluate\n",
    "# get_rank_52_holdem\n",
    "# get_hand_rank_all_hands_on_given_boards_52_holdem\n",
    "# by giving them worst and best hands/boards"
   ]
  },
  {
   "cell_type": "code",
   "execution_count": 2,
   "outputs": [],
   "source": [
    "\n",
    "from typing import List\n",
    "\n",
    "import numpy as np\n",
    "from prl.environment.Wrappers.prl_wrappers import AugmentObservationWrapper\n",
    "from prl.environment.steinberger.PokerRL.game._.cpp_wrappers.CppHandeval import CppHandeval\n",
    "# from prl.environment.steinberger.PokerRL.game._.cpp_wrappers.CppLUT import CppLibHoldemLuts\n",
    "\n",
    "from prl.baselines.supervised_learning.data_acquisition.environment_utils import build_cards_state_dict, init_wrapped_env, make_player_cards, make_board_cards\n",
    "\n",
    "cpp_poker = CppHandeval()\n",
    "# luts = CppLibHoldemLuts()\n",
    "\n",
    "\n",
    "def setup(board: str, player_hands: List[str]):\n",
    "    cards_state_dict = build_cards_state_dict(board, player_hands)\n",
    "    env: AugmentObservationWrapper = init_wrapped_env(env_wrapper_cls=AugmentObservationWrapper,\n",
    "                                                      stack_sizes=[100, 110, 120, 130, 140, 150])\n",
    "    state_dict = {'deck_state_dict': cards_state_dict}\n",
    "    return env, state_dict\n",
    "\n",
    "\n",
    "def notes():\n",
    "    # b = np.array([[2, 0], [2, 3], [11, 1], [10, 2], [11, 2]], dtype=np.int8)\n",
    "    # h = np.array([[11, 3], [5, 1]], dtype=np.int8)\n",
    "    # Act\n",
    "    # obs, _, done, _ = wrapped_env.reset(config=state_dict)\n",
    "    # todo: --- ASSERT ---\n",
    "    # parse initial observation back to cards\n",
    "    # step 5 time and check the other players cards\n",
    "    # Assert\n",
    "    assert True\n",
    "\n"
   ],
   "metadata": {
    "collapsed": false
   }
  },
  {
   "cell_type": "code",
   "execution_count": 3,
   "outputs": [],
   "source": [
    "# board = '['' '' '' '' '']'\n",
    "board = '[6h Ts Td 9c Jc]'  # we need specify board to bootstrap env from state dict\n",
    "# player_hands = ['3h 3c', 'Tc 9s', 'Jd Js', 'Kc Ks', 'Ac Ad', '2h 2c']\n",
    "player_hands = ['7d 2h', '2h 7d', 'Ac As', 'Kc Ks', '2h 2c']\n",
    "wrapped_env, state_dict = setup(board, player_hands)\n",
    "lh = wrapped_env.env.get_lut_holder()\n",
    "feature_names = list(wrapped_env.obs_idx_dict.keys()) + [\"button_index\"]"
   ],
   "metadata": {
    "collapsed": false
   }
  },
  {
   "cell_type": "code",
   "execution_count": 15,
   "outputs": [
    {
     "data": {
      "text/plain": "[[0, 0], [5, 1]]"
     },
     "execution_count": 15,
     "metadata": {},
     "output_type": "execute_result"
    }
   ],
   "source": [
    "player_cards = make_player_cards(player_hands)\n",
    "board_cards = make_board_cards(board)\n",
    "player_cards[1]"
   ],
   "metadata": {
    "collapsed": false
   }
  },
  {
   "cell_type": "code",
   "execution_count": 12,
   "outputs": [
    {
     "ename": "IndexError",
     "evalue": "index 5 is out of bounds for axis 1 with size 4",
     "output_type": "error",
     "traceback": [
      "\u001B[0;31m---------------------------------------------------------------------------\u001B[0m",
      "\u001B[0;31mIndexError\u001B[0m                                Traceback (most recent call last)",
      "Input \u001B[0;32mIn [12]\u001B[0m, in \u001B[0;36m<cell line: 1>\u001B[0;34m()\u001B[0m\n\u001B[0;32m----> 1\u001B[0m \u001B[43mlh\u001B[49m\u001B[38;5;241;43m.\u001B[39;49m\u001B[43mget_1d_card\u001B[49m\u001B[43m(\u001B[49m\u001B[43mplayer_cards\u001B[49m\u001B[43m[\u001B[49m\u001B[38;5;241;43m1\u001B[39;49m\u001B[43m]\u001B[49m\u001B[43m)\u001B[49m\n",
      "File \u001B[0;32m~/Documents/github.com/prl_environment/prl/environment/steinberger/PokerRL/game/_/look_up_table.py:233\u001B[0m, in \u001B[0;36m_LutHolderBase.get_1d_card\u001B[0;34m(self, card_2d)\u001B[0m\n\u001B[1;32m    231\u001B[0m \u001B[38;5;28;01mif\u001B[39;00m card_2d[\u001B[38;5;241m0\u001B[39m] \u001B[38;5;241m==\u001B[39m Poker\u001B[38;5;241m.\u001B[39mCARD_NOT_DEALT_TOKEN_1D:\n\u001B[1;32m    232\u001B[0m     \u001B[38;5;28;01mreturn\u001B[39;00m Poker\u001B[38;5;241m.\u001B[39mCARD_NOT_DEALT_TOKEN_1D\n\u001B[0;32m--> 233\u001B[0m \u001B[38;5;28;01mreturn\u001B[39;00m \u001B[38;5;28;43mself\u001B[39;49m\u001B[38;5;241;43m.\u001B[39;49m\u001B[43mLUT_2DCARD_2_1DCARD\u001B[49m\u001B[43m[\u001B[49m\u001B[43mcard_2d\u001B[49m\u001B[43m[\u001B[49m\u001B[38;5;241;43m0\u001B[39;49m\u001B[43m]\u001B[49m\u001B[43m,\u001B[49m\u001B[43m \u001B[49m\u001B[43mcard_2d\u001B[49m\u001B[43m[\u001B[49m\u001B[38;5;241;43m1\u001B[39;49m\u001B[43m]\u001B[49m\u001B[43m]\u001B[49m\n",
      "\u001B[0;31mIndexError\u001B[0m: index 5 is out of bounds for axis 1 with size 4"
     ]
    }
   ],
   "source": [
    "lh.get_1d_card(player_cards[1])"
   ],
   "metadata": {
    "collapsed": false
   }
  },
  {
   "cell_type": "code",
   "execution_count": null,
   "outputs": [],
   "source": [
    "cpp_poker.get_hand_rank_52_holdem(hand_2d=np.array(player_cards[0]), board_2d=np.array(board_cards))"
   ],
   "metadata": {
    "collapsed": false
   }
  },
  {
   "cell_type": "code",
   "execution_count": 3,
   "outputs": [],
   "source": [
    "import numpy as np\n",
    "a = [i for i in range(52)]"
   ],
   "metadata": {
    "collapsed": false
   }
  },
  {
   "cell_type": "code",
   "execution_count": 4,
   "outputs": [
    {
     "name": "stdout",
     "output_type": "stream",
     "text": [
      "18.3 s ± 799 ms per loop (mean ± std. dev. of 7 runs, 1 loop each)\n"
     ]
    }
   ],
   "source": [
    "%%timeit\n",
    "for i in range(1000000):\n",
    "    np.random.choice(a, 7)"
   ],
   "metadata": {
    "collapsed": false
   }
  },
  {
   "cell_type": "code",
   "execution_count": null,
   "outputs": [],
   "source": [],
   "metadata": {
    "collapsed": false
   }
  }
 ],
 "metadata": {
  "kernelspec": {
   "display_name": "Python 3",
   "language": "python",
   "name": "python3"
  },
  "language_info": {
   "codemirror_mode": {
    "name": "ipython",
    "version": 2
   },
   "file_extension": ".py",
   "mimetype": "text/x-python",
   "name": "python",
   "nbconvert_exporter": "python",
   "pygments_lexer": "ipython2",
   "version": "2.7.6"
  }
 },
 "nbformat": 4,
 "nbformat_minor": 0
}
