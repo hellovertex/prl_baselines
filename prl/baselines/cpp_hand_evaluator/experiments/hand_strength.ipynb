{
 "cells": [
  {
   "cell_type": "code",
   "execution_count": 2,
   "metadata": {
    "collapsed": true
   },
   "outputs": [],
   "source": [
    "# Evaluate\n",
    "# get_rank_52_holdem\n",
    "# get_hand_rank_all_hands_on_given_boards_52_holdem\n",
    "# by giving them worst and best hands/boards"
   ]
  },
  {
   "cell_type": "code",
   "execution_count": 3,
   "outputs": [],
   "source": [
    "\n",
    "from typing import List\n",
    "\n",
    "import numpy as np\n",
    "from prl.environment.Wrappers.augment import AugmentObservationWrapper\n",
    "from prl.environment.steinberger.PokerRL.game._.cpp_wrappers.CppHandeval import CppHandeval\n",
    "# from prl.environment.steinberger.PokerRL.game._.cpp_wrappers.CppLUT import CppLibHoldemLuts\n",
    "\n",
    "from prl.baselines.supervised_learning.data_acquisition.environment_utils import build_cards_state_dict, init_wrapped_env, make_player_cards, make_board_cards\n",
    "\n",
    "cpp_poker = CppHandeval()\n",
    "# luts = CppLibHoldemLuts()\n",
    "\n",
    "\n",
    "def setup(board: str, player_hands: List[str]):\n",
    "    cards_state_dict = build_cards_state_dict(board, player_hands)\n",
    "    env: AugmentObservationWrapper = init_wrapped_env(env_wrapper_cls=AugmentObservationWrapper,\n",
    "                                                      stack_sizes=[100, 110, 120, 130, 140, 150])\n",
    "    state_dict = {'deck_state_dict': cards_state_dict}\n",
    "    return env, state_dict\n",
    "\n",
    "\n",
    "def notes():\n",
    "    # b = np.array([[2, 0], [2, 3], [11, 1], [10, 2], [11, 2]], dtype=np.int8)\n",
    "    # h = np.array([[11, 3], [5, 1]], dtype=np.int8)\n",
    "    # Act\n",
    "    # obs, _, done, _ = wrapped_env.reset(config=state_dict)\n",
    "    # todo: --- ASSERT ---\n",
    "    # parse initial observation back to cards\n",
    "    # step 5 time and check the other players cards\n",
    "    # Assert\n",
    "    assert True\n",
    "\n"
   ],
   "metadata": {
    "collapsed": false
   }
  },
  {
   "cell_type": "code",
   "execution_count": 4,
   "outputs": [],
   "source": [
    "# board = '['' '' '' '' '']'\n",
    "board = '[6h Ts Td 9c Jc]'  # we need specify board to bootstrap env from state dict\n",
    "# player_hands = ['3h 3c', 'Tc 9s', 'Jd Js', 'Kc Ks', 'Ac Ad', '2h 2c']\n",
    "player_hands = ['7d 2h', '2h 7d', 'Ac As', 'Kc Ks', '2h 2c']\n",
    "wrapped_env, state_dict = setup(board, player_hands)\n",
    "lh = wrapped_env.env.get_lut_holder()\n",
    "feature_names = list(wrapped_env.obs_idx_dict.keys()) + [\"button_index\"]"
   ],
   "metadata": {
    "collapsed": false
   }
  },
  {
   "cell_type": "code",
   "execution_count": 5,
   "outputs": [
    {
     "data": {
      "text/plain": "[[0, 0], [5, 1]]"
     },
     "execution_count": 5,
     "metadata": {},
     "output_type": "execute_result"
    }
   ],
   "source": [
    "player_cards = make_player_cards(player_hands)\n",
    "board_cards = make_board_cards(board)\n",
    "player_cards[1]"
   ],
   "metadata": {
    "collapsed": false
   }
  },
  {
   "cell_type": "code",
   "execution_count": 6,
   "outputs": [
    {
     "data": {
      "text/plain": "list"
     },
     "execution_count": 6,
     "metadata": {},
     "output_type": "execute_result"
    }
   ],
   "source": [
    "type(player_cards[0])"
   ],
   "metadata": {
    "collapsed": false
   }
  },
  {
   "cell_type": "code",
   "execution_count": 12,
   "outputs": [],
   "source": [
    "import numpy as np\n",
    "from numba import njit\n",
    "arr = np.array([0 for _ in range(80)])\n",
    "\n",
    "deck = np.array([0, 1, 2, 3, 4, 5, 6, 7, 8, 9, 10, 11, 12, 13, 14, 15, 16, 17, 18, 19, 20, 21, 22, 23, 24, 25, 26, 27, 28, 29, 30, 31, 32, 33, 34, 35, 36, 37, 38, 39, 40, 41, 42, 43, 44, 45, 46, 47, 48, 49, 50, 51])"
   ],
   "metadata": {
    "collapsed": false
   }
  },
  {
   "cell_type": "code",
   "execution_count": 16,
   "outputs": [
    {
     "name": "stdout",
     "output_type": "stream",
     "text": [
      "[22  8 42  5 31 14]\n",
      "[39 13  9 41 31 40]\n",
      "[39 31 17 45 35 11]\n",
      "[40 45 24  8 26  7]\n",
      "[35 37  9 42 38 45]\n",
      "[29  2  7 13 31 41]\n",
      "[ 2 12 34 16 43 50]\n",
      "[42  2  8 35 18  9]\n",
      "275 ms ± 42.5 ms per loop (mean ± std. dev. of 7 runs, 1 loop each)\n"
     ]
    }
   ],
   "source": [
    "%%timeit\n",
    "@njit\n",
    "def f():\n",
    "    return np.random.choice(deck, 6, replace=False)\n",
    "print(f())"
   ],
   "metadata": {
    "collapsed": false
   }
  },
  {
   "cell_type": "code",
   "execution_count": 17,
   "outputs": [
    {
     "ename": "NameError",
     "evalue": "name 'f' is not defined",
     "output_type": "error",
     "traceback": [
      "\u001B[0;31m---------------------------------------------------------------------------\u001B[0m",
      "\u001B[0;31mNameError\u001B[0m                                 Traceback (most recent call last)",
      "Input \u001B[0;32mIn [17]\u001B[0m, in \u001B[0;36m<cell line: 1>\u001B[0;34m()\u001B[0m\n\u001B[0;32m----> 1\u001B[0m \u001B[43mget_ipython\u001B[49m\u001B[43m(\u001B[49m\u001B[43m)\u001B[49m\u001B[38;5;241;43m.\u001B[39;49m\u001B[43mrun_cell_magic\u001B[49m\u001B[43m(\u001B[49m\u001B[38;5;124;43m'\u001B[39;49m\u001B[38;5;124;43mtimeit\u001B[39;49m\u001B[38;5;124;43m'\u001B[39;49m\u001B[43m,\u001B[49m\u001B[43m \u001B[49m\u001B[38;5;124;43m'\u001B[39;49m\u001B[38;5;124;43m'\u001B[39;49m\u001B[43m,\u001B[49m\u001B[43m \u001B[49m\u001B[38;5;124;43m'\u001B[39;49m\u001B[38;5;124;43mprint(f())\u001B[39;49m\u001B[38;5;130;43;01m\\n\u001B[39;49;00m\u001B[38;5;124;43m'\u001B[39;49m\u001B[43m)\u001B[49m\n",
      "File \u001B[0;32m~/Documents/github.com/venv_prl/lib/python3.8/site-packages/IPython/core/interactiveshell.py:2358\u001B[0m, in \u001B[0;36mInteractiveShell.run_cell_magic\u001B[0;34m(self, magic_name, line, cell)\u001B[0m\n\u001B[1;32m   2356\u001B[0m \u001B[38;5;28;01mwith\u001B[39;00m \u001B[38;5;28mself\u001B[39m\u001B[38;5;241m.\u001B[39mbuiltin_trap:\n\u001B[1;32m   2357\u001B[0m     args \u001B[38;5;241m=\u001B[39m (magic_arg_s, cell)\n\u001B[0;32m-> 2358\u001B[0m     result \u001B[38;5;241m=\u001B[39m \u001B[43mfn\u001B[49m\u001B[43m(\u001B[49m\u001B[38;5;241;43m*\u001B[39;49m\u001B[43margs\u001B[49m\u001B[43m,\u001B[49m\u001B[43m \u001B[49m\u001B[38;5;241;43m*\u001B[39;49m\u001B[38;5;241;43m*\u001B[39;49m\u001B[43mkwargs\u001B[49m\u001B[43m)\u001B[49m\n\u001B[1;32m   2359\u001B[0m \u001B[38;5;28;01mreturn\u001B[39;00m result\n",
      "File \u001B[0;32m~/Documents/github.com/venv_prl/lib/python3.8/site-packages/IPython/core/magics/execution.py:1162\u001B[0m, in \u001B[0;36mExecutionMagics.timeit\u001B[0;34m(self, line, cell, local_ns)\u001B[0m\n\u001B[1;32m   1160\u001B[0m \u001B[38;5;28;01mfor\u001B[39;00m index \u001B[38;5;129;01min\u001B[39;00m \u001B[38;5;28mrange\u001B[39m(\u001B[38;5;241m0\u001B[39m, \u001B[38;5;241m10\u001B[39m):\n\u001B[1;32m   1161\u001B[0m     number \u001B[38;5;241m=\u001B[39m \u001B[38;5;241m10\u001B[39m \u001B[38;5;241m*\u001B[39m\u001B[38;5;241m*\u001B[39m index\n\u001B[0;32m-> 1162\u001B[0m     time_number \u001B[38;5;241m=\u001B[39m \u001B[43mtimer\u001B[49m\u001B[38;5;241;43m.\u001B[39;49m\u001B[43mtimeit\u001B[49m\u001B[43m(\u001B[49m\u001B[43mnumber\u001B[49m\u001B[43m)\u001B[49m\n\u001B[1;32m   1163\u001B[0m     \u001B[38;5;28;01mif\u001B[39;00m time_number \u001B[38;5;241m>\u001B[39m\u001B[38;5;241m=\u001B[39m \u001B[38;5;241m0.2\u001B[39m:\n\u001B[1;32m   1164\u001B[0m         \u001B[38;5;28;01mbreak\u001B[39;00m\n",
      "File \u001B[0;32m~/Documents/github.com/venv_prl/lib/python3.8/site-packages/IPython/core/magics/execution.py:156\u001B[0m, in \u001B[0;36mTimer.timeit\u001B[0;34m(self, number)\u001B[0m\n\u001B[1;32m    154\u001B[0m gc\u001B[38;5;241m.\u001B[39mdisable()\n\u001B[1;32m    155\u001B[0m \u001B[38;5;28;01mtry\u001B[39;00m:\n\u001B[0;32m--> 156\u001B[0m     timing \u001B[38;5;241m=\u001B[39m \u001B[38;5;28;43mself\u001B[39;49m\u001B[38;5;241;43m.\u001B[39;49m\u001B[43minner\u001B[49m\u001B[43m(\u001B[49m\u001B[43mit\u001B[49m\u001B[43m,\u001B[49m\u001B[43m \u001B[49m\u001B[38;5;28;43mself\u001B[39;49m\u001B[38;5;241;43m.\u001B[39;49m\u001B[43mtimer\u001B[49m\u001B[43m)\u001B[49m\n\u001B[1;32m    157\u001B[0m \u001B[38;5;28;01mfinally\u001B[39;00m:\n\u001B[1;32m    158\u001B[0m     \u001B[38;5;28;01mif\u001B[39;00m gcold:\n",
      "File \u001B[0;32m<magic-timeit>:1\u001B[0m, in \u001B[0;36minner\u001B[0;34m(_it, _timer)\u001B[0m\n",
      "\u001B[0;31mNameError\u001B[0m: name 'f' is not defined"
     ]
    }
   ],
   "source": [
    "%%timeit\n",
    "print(f())"
   ],
   "metadata": {
    "collapsed": false
   }
  },
  {
   "cell_type": "code",
   "execution_count": null,
   "outputs": [],
   "source": [],
   "metadata": {
    "collapsed": false
   }
  }
 ],
 "metadata": {
  "kernelspec": {
   "display_name": "Python 3",
   "language": "python",
   "name": "python3"
  },
  "language_info": {
   "codemirror_mode": {
    "name": "ipython",
    "version": 2
   },
   "file_extension": ".py",
   "mimetype": "text/x-python",
   "name": "python",
   "nbconvert_exporter": "python",
   "pygments_lexer": "ipython2",
   "version": "2.7.6"
  }
 },
 "nbformat": 4,
 "nbformat_minor": 0
}
