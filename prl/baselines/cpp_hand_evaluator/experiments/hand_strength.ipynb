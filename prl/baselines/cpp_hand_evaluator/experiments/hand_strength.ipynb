{
 "cells": [
  {
   "cell_type": "code",
   "execution_count": 2,
   "metadata": {
    "collapsed": true
   },
   "outputs": [],
   "source": [
    "# Evaluate\n",
    "# get_rank_52_holdem\n",
    "# get_hand_rank_all_hands_on_given_boards_52_holdem\n",
    "# by giving them worst and best hands/boards"
   ]
  },
  {
   "cell_type": "code",
   "execution_count": 3,
   "outputs": [],
   "source": [
    "\n",
    "from typing import List\n",
    "\n",
    "import numpy as np\n",
    "from prl.environment.Wrappers.prl_wrappers import AugmentObservationWrapper\n",
    "from prl.environment.steinberger.PokerRL.game._.cpp_wrappers.CppHandeval import CppHandeval\n",
    "# from prl.environment.steinberger.PokerRL.game._.cpp_wrappers.CppLUT import CppLibHoldemLuts\n",
    "\n",
    "from prl.baselines.supervised_learning.data_acquisition.environment_utils import build_cards_state_dict, init_wrapped_env, make_player_cards, make_board_cards\n",
    "\n",
    "cpp_poker = CppHandeval()\n",
    "# luts = CppLibHoldemLuts()\n",
    "\n",
    "\n",
    "def setup(board: str, player_hands: List[str]):\n",
    "    cards_state_dict = build_cards_state_dict(board, player_hands)\n",
    "    env: AugmentObservationWrapper = init_wrapped_env(env_wrapper_cls=AugmentObservationWrapper,\n",
    "                                                      stack_sizes=[100, 110, 120, 130, 140, 150])\n",
    "    state_dict = {'deck_state_dict': cards_state_dict}\n",
    "    return env, state_dict\n",
    "\n",
    "\n",
    "def notes():\n",
    "    # b = np.array([[2, 0], [2, 3], [11, 1], [10, 2], [11, 2]], dtype=np.int8)\n",
    "    # h = np.array([[11, 3], [5, 1]], dtype=np.int8)\n",
    "    # Act\n",
    "    # obs, _, done, _ = wrapped_env.reset(config=state_dict)\n",
    "    # todo: --- ASSERT ---\n",
    "    # parse initial observation back to cards\n",
    "    # step 5 time and check the other players cards\n",
    "    # Assert\n",
    "    assert True\n",
    "\n"
   ],
   "metadata": {
    "collapsed": false
   }
  },
  {
   "cell_type": "code",
   "execution_count": 4,
   "outputs": [],
   "source": [
    "# board = '['' '' '' '' '']'\n",
    "board = '[6h Ts Td 9c Jc]'  # we need specify board to bootstrap env from state dict\n",
    "# player_hands = ['3h 3c', 'Tc 9s', 'Jd Js', 'Kc Ks', 'Ac Ad', '2h 2c']\n",
    "player_hands = ['7d 2h', '2h 7d', 'Ac As', 'Kc Ks', '2h 2c']\n",
    "wrapped_env, state_dict = setup(board, player_hands)\n",
    "lh = wrapped_env.env.get_lut_holder()\n",
    "feature_names = list(wrapped_env.obs_idx_dict.keys()) + [\"button_index\"]"
   ],
   "metadata": {
    "collapsed": false
   }
  },
  {
   "cell_type": "code",
   "execution_count": 5,
   "outputs": [
    {
     "data": {
      "text/plain": "[[0, 0], [5, 1]]"
     },
     "execution_count": 5,
     "metadata": {},
     "output_type": "execute_result"
    }
   ],
   "source": [
    "player_cards = make_player_cards(player_hands)\n",
    "board_cards = make_board_cards(board)\n",
    "player_cards[1]"
   ],
   "metadata": {
    "collapsed": false
   }
  },
  {
   "cell_type": "code",
   "execution_count": 6,
   "outputs": [
    {
     "data": {
      "text/plain": "list"
     },
     "execution_count": 6,
     "metadata": {},
     "output_type": "execute_result"
    }
   ],
   "source": [
    "type(player_cards[0])"
   ],
   "metadata": {
    "collapsed": false
   }
  },
  {
   "cell_type": "code",
   "execution_count": 1,
   "outputs": [],
   "source": [
    "import numpy as np\n",
    "from numba import njit\n",
    "arr = np.array([0 for _ in range(80)])"
   ],
   "metadata": {
    "collapsed": false
   }
  },
  {
   "cell_type": "code",
   "execution_count": 11,
   "outputs": [
    {
     "name": "stdout",
     "output_type": "stream",
     "text": [
      "[50 40 37 25 49 23]\n",
      "[10 42  5 14 46  8]\n",
      "[25 17 40 23 14 18]\n",
      "[39 11 13 27 33 14]\n",
      "[ 0 25 10 12 26 39]\n",
      "[48  5 25 27 46  6]\n",
      "[ 9 17 49 30 12 13]\n",
      "[ 0 23 44  7 24  3]\n",
      "249 ms ± 48.4 ms per loop (mean ± std. dev. of 7 runs, 1 loop each)\n"
     ]
    }
   ],
   "source": [
    "%%timeit\n",
    "\n",
    "@njit\n",
    "def f():\n",
    "    deck = []\n",
    "    for i in range(51):\n",
    "        deck.append(i)\n",
    "    deck = np.array(deck)\n",
    "    return np.random.choice(deck, 6, replace=False)\n",
    "print(f())"
   ],
   "metadata": {
    "collapsed": false
   }
  },
  {
   "cell_type": "code",
   "execution_count": 6,
   "outputs": [],
   "source": [],
   "metadata": {
    "collapsed": false
   }
  }
 ],
 "metadata": {
  "kernelspec": {
   "display_name": "Python 3",
   "language": "python",
   "name": "python3"
  },
  "language_info": {
   "codemirror_mode": {
    "name": "ipython",
    "version": 2
   },
   "file_extension": ".py",
   "mimetype": "text/x-python",
   "name": "python",
   "nbconvert_exporter": "python",
   "pygments_lexer": "ipython2",
   "version": "2.7.6"
  }
 },
 "nbformat": 4,
 "nbformat_minor": 0
}
