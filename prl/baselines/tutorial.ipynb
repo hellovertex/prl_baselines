{
 "cells": [
  {
   "cell_type": "markdown",
   "source": [
    "# Poker with Reinforcement Learning\n",
    "\n",
    "## 1. Create a supervised learning agent that predicts action of a player using game logs.\n",
    "A similar approach has been done in \"Building a No Limit Texas Hold’em Poker Agent Based\n",
    "on Game Logs using Supervised Learning\" (Teófilo and Reis, 2011)\n",
    "1. Obtain dataset from hand history smithy (www.hhsmithy.com)\n",
    "2."
   ],
   "metadata": {
    "collapsed": false
   }
  },
  {
   "cell_type": "code",
   "execution_count": 6,
   "outputs": [],
   "source": [
    "# 1. Download raw .txt dataset to disk:\n",
    "# -- <<IN: from_gdrive, outpath Out: unzipped files>>\n",
    "# 2. Make dataset statistics for D\n",
    "# -- <<IN: path_unzipped_files, csv_out_path  Out: .csv file with statistics>>\n",
    "# 3. Filter set S of 20 best players\n",
    "# -- <<IN: D, csv_out_path OUT: stats_S.csv file with 20 best players and some stats>>\n",
    "# 4. Reduce D to D^*, such that D^* only contains games of players in S that went to showdown\n",
    "# -- <<IN: path_unzipped_files_D, csv_path_stats_S, path_out_D_prime OUT: unzipped files only with showdown games of players in S>>\n",
    "# 5. Encode D^* to supervised learning dataset D^*={(observation, action)} using different approaches:\n",
    "# 5.1: Take only best players showdown data to obtain D^*|S = {(observation, action)} -- data has no folds\n",
    "# 5.2: Include showdown opponents observations and label them with FOLD. This will additionally randomize their cards\n",
    "#      as otherwise the card distribution is skewed towards good hands because they are more likely to go to showdown\n",
    "# -- <<\n",
    "# 6. Balance dataset before doing supervised learning (ratio of calls vs all-ins is approx. 30:1 before balancing)\n",
    "# 7. Set balancing scheme\n",
    "# 8."
   ],
   "metadata": {
    "collapsed": false
   }
  },
  {
   "cell_type": "code",
   "execution_count": 8,
   "outputs": [],
   "source": [
    "# The encoder gets two parameters from_selected_players=False, and drop_folds=True\n",
    "# from_selected_players=False, and drop_folds=True == D^*_nf (take only winners (obs, action) pairs)\n",
    "# randomize fold cards\n",
    "# from_selected_players=False drop_folds=False == D^*f (take winners (obs,action), take losers but set (obs, FOLD)\n",
    "# from_selected_players=True, and drop_folds=False  == D^*f|S (selected players (obs,action), opponent set (obs, FOLD)\n",
    "# from_selected_players=True, and drop_folds=True == D^*nf|S (take only selected players (obs,action) pairs\n",
    "# todo write utility function to run all at once\n"
   ],
   "metadata": {
    "collapsed": false
   }
  },
  {
   "cell_type": "code",
   "execution_count": 9,
   "outputs": [],
   "source": [
    "# The preprocessor gets a path to a vectorized dataset as output by the encoder\n",
    "# Additionally, it is parameterized via a list of sampling_percentages to which each label frequency will be scaled\n",
    "# together with a parameter thats set what the percentage means. It can be percentage_of_folds, percentage_of_calls, percentage_of_most_frequent_raise\n",
    "# the two parameters `sampling_percentages` and `percentage_of` together will allow any possible scaling of the dataset\n",
    "# The reason to parameterize the balancing is that we sometimes want to have an equal number of labels for ecah class,\n",
    "# while at other times we may want to have more folds amd calls than raises and so on.\n",
    "# if you want to have an equal number of labels without losing information, you should set\n",
    "# `sampling percentages = [1 for i in range(8)]` and `percentage_of='max_num_raises'`\n",
    "# this will upsample and downsample each label to the number of the labels corresponding to the most frequent bet size"
   ],
   "metadata": {
    "collapsed": false
   }
  },
  {
   "cell_type": "code",
   "execution_count": null,
   "outputs": [],
   "source": [],
   "metadata": {
    "collapsed": false
   }
  }
 ],
 "metadata": {
  "kernelspec": {
   "display_name": "Python 3",
   "language": "python",
   "name": "python3"
  },
  "language_info": {
   "codemirror_mode": {
    "name": "ipython",
    "version": 2
   },
   "file_extension": ".py",
   "mimetype": "text/x-python",
   "name": "python",
   "nbconvert_exporter": "python",
   "pygments_lexer": "ipython2",
   "version": "2.7.6"
  }
 },
 "nbformat": 4,
 "nbformat_minor": 0
}
